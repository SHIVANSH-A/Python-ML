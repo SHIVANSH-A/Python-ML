{
 "cells": [
  {
   "cell_type": "code",
   "execution_count": 23,
   "id": "8dd150a9",
   "metadata": {},
   "outputs": [],
   "source": [
    "import pandas as pd"
   ]
  },
  {
   "cell_type": "code",
   "execution_count": 24,
   "id": "f32bce29",
   "metadata": {},
   "outputs": [],
   "source": [
    "xml='''<?xml version=\"1.0\" encoding=\"UTF-8\"?>\n",
    "<urlset xmlns=\"http://www.sitemaps.org/schemas/sitemap/0.9\">\n",
    "   <url>\n",
    "      <loc>https://example.com/item-1</loc>\n",
    "      <lastmod>2022-06-02T00:00:00Z</lastmod>\n",
    "      <changefreq>weekly</changefreq>\n",
    "   </url>\n",
    "   <url>\n",
    "      <loc>https://example.com/item-2</loc>\n",
    "      <lastmod>2022-06-02T11:34:37Z</lastmod>\n",
    "      <changefreq>weekly</changefreq>\n",
    "   </url>\n",
    "   <url>\n",
    "      <loc>https://example.com/item-3</loc>\n",
    "      <lastmod>2022-06-03T19:24:47Z</lastmod>\n",
    "      <changefreq>weekly</changefreq>\n",
    "   </url>\n",
    "</urlset>'''"
   ]
  },
  {
   "cell_type": "code",
   "execution_count": 25,
   "id": "cf1c1c26",
   "metadata": {},
   "outputs": [],
   "source": [
    "df=pd.read_xml(xml)"
   ]
  },
  {
   "cell_type": "code",
   "execution_count": 26,
   "id": "000523c2",
   "metadata": {},
   "outputs": [
    {
     "data": {
      "text/plain": [
       "pandas.core.frame.DataFrame"
      ]
     },
     "execution_count": 26,
     "metadata": {},
     "output_type": "execute_result"
    }
   ],
   "source": [
    "type(df)"
   ]
  },
  {
   "cell_type": "code",
   "execution_count": 27,
   "id": "10aa6ec8",
   "metadata": {},
   "outputs": [],
   "source": [
    "xml = '''<?xml version=\"1.0\" encoding=\"UTF-8\"?>\n",
    "<urlset>\n",
    "  <url loc=\"https://example.com/item-1\" lastmod=\"2022-06-02T00:00:00Z\" changefreq=\"weekly\"/>\n",
    "  <url loc=\"https://example.com/item-2\" changefreq=\"weekly\"/>\n",
    "  <url loc=\"https://example.com/item-3\" lastmod=\"2022-06-03T19:24:47Z\" changefreq=\"weekly\"/>\n",
    "</urlset>'''"
   ]
  },
  {
   "cell_type": "code",
   "execution_count": 28,
   "id": "433c7362",
   "metadata": {},
   "outputs": [],
   "source": [
    "df=pd.read_xml(xml,xpath=\".//url\")"
   ]
  },
  {
   "cell_type": "code",
   "execution_count": 29,
   "id": "f6d3abff",
   "metadata": {},
   "outputs": [
    {
     "data": {
      "text/html": [
       "<div>\n",
       "<style scoped>\n",
       "    .dataframe tbody tr th:only-of-type {\n",
       "        vertical-align: middle;\n",
       "    }\n",
       "\n",
       "    .dataframe tbody tr th {\n",
       "        vertical-align: top;\n",
       "    }\n",
       "\n",
       "    .dataframe thead th {\n",
       "        text-align: right;\n",
       "    }\n",
       "</style>\n",
       "<table border=\"1\" class=\"dataframe\">\n",
       "  <thead>\n",
       "    <tr style=\"text-align: right;\">\n",
       "      <th></th>\n",
       "      <th>loc</th>\n",
       "      <th>lastmod</th>\n",
       "      <th>changefreq</th>\n",
       "    </tr>\n",
       "  </thead>\n",
       "  <tbody>\n",
       "    <tr>\n",
       "      <th>0</th>\n",
       "      <td>https://example.com/item-1</td>\n",
       "      <td>2022-06-02T00:00:00Z</td>\n",
       "      <td>weekly</td>\n",
       "    </tr>\n",
       "    <tr>\n",
       "      <th>1</th>\n",
       "      <td>https://example.com/item-2</td>\n",
       "      <td>None</td>\n",
       "      <td>weekly</td>\n",
       "    </tr>\n",
       "    <tr>\n",
       "      <th>2</th>\n",
       "      <td>https://example.com/item-3</td>\n",
       "      <td>2022-06-03T19:24:47Z</td>\n",
       "      <td>weekly</td>\n",
       "    </tr>\n",
       "  </tbody>\n",
       "</table>\n",
       "</div>"
      ],
      "text/plain": [
       "                          loc               lastmod changefreq\n",
       "0  https://example.com/item-1  2022-06-02T00:00:00Z     weekly\n",
       "1  https://example.com/item-2                  None     weekly\n",
       "2  https://example.com/item-3  2022-06-03T19:24:47Z     weekly"
      ]
     },
     "execution_count": 29,
     "metadata": {},
     "output_type": "execute_result"
    }
   ],
   "source": [
    "df"
   ]
  },
  {
   "cell_type": "code",
   "execution_count": 30,
   "id": "aaee50aa",
   "metadata": {},
   "outputs": [],
   "source": [
    "xml = '''<?xml version='1.0' encoding='utf-8'?>\n",
    "<doc:data xmlns:doc=\"https://example.com\">\n",
    "  <doc:row>\n",
    "    <doc:shape>square</doc:shape>\n",
    "    <doc:degrees>360</doc:degrees>\n",
    "    <doc:sides>4.0</doc:sides>\n",
    "  </doc:row>\n",
    "  <doc:row>\n",
    "    <doc:shape>circle</doc:shape>\n",
    "    <doc:degrees>360</doc:degrees>\n",
    "    <doc:sides/>\n",
    "  </doc:row>\n",
    "  <doc:row>\n",
    "    <doc:shape>triangle</doc:shape>\n",
    "    <doc:degrees>180</doc:degrees>\n",
    "    <doc:sides>3.0</doc:sides>\n",
    "  </doc:row>\n",
    "</doc:data>'''"
   ]
  },
  {
   "cell_type": "code",
   "execution_count": 32,
   "id": "8065de1b",
   "metadata": {},
   "outputs": [],
   "source": [
    "df=pd.read_xml(xml,xpath=\".//doc:row\",namespaces={\"doc\":\"https://example.com\"})"
   ]
  },
  {
   "cell_type": "code",
   "execution_count": 34,
   "id": "4bdf35f1",
   "metadata": {},
   "outputs": [],
   "source": [
    "df.to_xml(\"testing.xml\")"
   ]
  },
  {
   "cell_type": "code",
   "execution_count": null,
   "id": "004b7734",
   "metadata": {},
   "outputs": [],
   "source": []
  },
  {
   "cell_type": "code",
   "execution_count": null,
   "id": "56f85653",
   "metadata": {},
   "outputs": [],
   "source": []
  },
  {
   "cell_type": "code",
   "execution_count": null,
   "id": "da4856c9",
   "metadata": {},
   "outputs": [],
   "source": []
  }
 ],
 "metadata": {
  "kernelspec": {
   "display_name": "Python 3",
   "language": "python",
   "name": "python3"
  },
  "language_info": {
   "codemirror_mode": {
    "name": "ipython",
    "version": 3
   },
   "file_extension": ".py",
   "mimetype": "text/x-python",
   "name": "python",
   "nbconvert_exporter": "python",
   "pygments_lexer": "ipython3",
   "version": "3.8.5"
  }
 },
 "nbformat": 4,
 "nbformat_minor": 5
}
